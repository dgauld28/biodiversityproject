{
 "cells": [
  {
   "cell_type": "markdown",
   "metadata": {},
   "source": [
    "# Project Overview : Biodiversity in National Parks"
   ]
  },
  {
   "cell_type": "markdown",
   "metadata": {},
   "source": [
    "In this project, the focus is on data about endangered species in different parks from the National Parks Service. "
   ]
  },
  {
   "cell_type": "markdown",
   "metadata": {},
   "source": [
    "# The Goal"
   ]
  },
  {
   "cell_type": "markdown",
   "metadata": {},
   "source": [
    "The goal of this project is to find patterns or themes to the types of species that become endangered.\n",
    "To do this, we will need to utilize our past knowledge of data visualization and new knowledge on cleaning up the data that is\n",
    "given to us and seek to answer all of our questions in a meaningful way!"
   ]
  },
  {
   "cell_type": "markdown",
   "metadata": {},
   "source": [
    "# Questions that we want answers to:"
   ]
  },
  {
   "cell_type": "markdown",
   "metadata": {},
   "source": [
    "- What is the distribution of conservation_status for animals?\n",
    "- Are certain types of species more likely to be endangered?\n",
    "- Are the differences between species and their conservation status significant?\n",
    "- Which species were spotted the most at each park?"
   ]
  },
  {
   "cell_type": "markdown",
   "metadata": {},
   "source": [
    "# Provided Data"
   ]
  },
  {
   "cell_type": "markdown",
   "metadata": {},
   "source": [
    "There are two csv files provided for us by Codecademy to use for this project. The first csv file contains information about species and the second one contains information about the parks."
   ]
  },
  {
   "cell_type": "markdown",
   "metadata": {},
   "source": [
    "# Analysis "
   ]
  },
  {
   "cell_type": "markdown",
   "metadata": {},
   "source": [
    "We will be using data visualizations alongside aggregate statistics that will be enforced in our data to make it more clear to \n",
    "readers. \n",
    "This will include:\n",
    "- Distributions between variables\n",
    "- Counts\n",
    "- Relationships & More"
   ]
  },
  {
   "cell_type": "markdown",
   "metadata": {},
   "source": [
    "# Importing our Python Modules"
   ]
  },
  {
   "cell_type": "markdown",
   "metadata": {},
   "source": [
    "We will import the necessary modules(seaborn, matplotlib, etc.) to help aid us in our project!"
   ]
  },
  {
   "cell_type": "code",
   "execution_count": 1,
   "metadata": {},
   "outputs": [],
   "source": [
    "import pandas as pd\n",
    "import numpy as np\n",
    "\n",
    "from matplotlib import pyplot as plt\n",
    "import seaborn as sns\n",
    "\n",
    "%matplotlib inline"
   ]
  },
  {
   "cell_type": "markdown",
   "metadata": {},
   "source": [
    "# Getting the Data"
   ]
  },
  {
   "cell_type": "markdown",
   "metadata": {},
   "source": [
    "We will load these datasets with the help of Pandas in order for us to use this data in our Python program.\n",
    "Below, both of our csv files will be loaded into variables and will display a few rows of data with the pd.head() line:"
   ]
  },
  {
   "cell_type": "markdown",
   "metadata": {},
   "source": [
    "Species -- Species.csv"
   ]
  },
  {
   "cell_type": "markdown",
   "metadata": {},
   "source": [
    "Contains information on the following:\n",
    "- Category: The type of species it is (Mammal, Bird, Fish, etc.)\n",
    "- Scientific Name: The scientific name of the species\n",
    "- Common Names: The common names of the species\n",
    "- Conservation Status: The conservation status of the species"
   ]
  },
  {
   "cell_type": "code",
   "execution_count": 2,
   "metadata": {},
   "outputs": [
    {
     "data": {
      "text/html": [
       "<div>\n",
       "<style scoped>\n",
       "    .dataframe tbody tr th:only-of-type {\n",
       "        vertical-align: middle;\n",
       "    }\n",
       "\n",
       "    .dataframe tbody tr th {\n",
       "        vertical-align: top;\n",
       "    }\n",
       "\n",
       "    .dataframe thead th {\n",
       "        text-align: right;\n",
       "    }\n",
       "</style>\n",
       "<table border=\"1\" class=\"dataframe\">\n",
       "  <thead>\n",
       "    <tr style=\"text-align: right;\">\n",
       "      <th></th>\n",
       "      <th>category</th>\n",
       "      <th>scientific_name</th>\n",
       "      <th>common_names</th>\n",
       "      <th>conservation_status</th>\n",
       "    </tr>\n",
       "  </thead>\n",
       "  <tbody>\n",
       "    <tr>\n",
       "      <th>0</th>\n",
       "      <td>Mammal</td>\n",
       "      <td>Clethrionomys gapperi gapperi</td>\n",
       "      <td>Gapper's Red-Backed Vole</td>\n",
       "      <td>NaN</td>\n",
       "    </tr>\n",
       "    <tr>\n",
       "      <th>1</th>\n",
       "      <td>Mammal</td>\n",
       "      <td>Bos bison</td>\n",
       "      <td>American Bison, Bison</td>\n",
       "      <td>NaN</td>\n",
       "    </tr>\n",
       "    <tr>\n",
       "      <th>2</th>\n",
       "      <td>Mammal</td>\n",
       "      <td>Bos taurus</td>\n",
       "      <td>Aurochs, Aurochs, Domestic Cattle (Feral), Dom...</td>\n",
       "      <td>NaN</td>\n",
       "    </tr>\n",
       "    <tr>\n",
       "      <th>3</th>\n",
       "      <td>Mammal</td>\n",
       "      <td>Ovis aries</td>\n",
       "      <td>Domestic Sheep, Mouflon, Red Sheep, Sheep (Feral)</td>\n",
       "      <td>NaN</td>\n",
       "    </tr>\n",
       "    <tr>\n",
       "      <th>4</th>\n",
       "      <td>Mammal</td>\n",
       "      <td>Cervus elaphus</td>\n",
       "      <td>Wapiti Or Elk</td>\n",
       "      <td>NaN</td>\n",
       "    </tr>\n",
       "  </tbody>\n",
       "</table>\n",
       "</div>"
      ],
      "text/plain": [
       "  category                scientific_name  \\\n",
       "0   Mammal  Clethrionomys gapperi gapperi   \n",
       "1   Mammal                      Bos bison   \n",
       "2   Mammal                     Bos taurus   \n",
       "3   Mammal                     Ovis aries   \n",
       "4   Mammal                 Cervus elaphus   \n",
       "\n",
       "                                        common_names conservation_status  \n",
       "0                           Gapper's Red-Backed Vole                 NaN  \n",
       "1                              American Bison, Bison                 NaN  \n",
       "2  Aurochs, Aurochs, Domestic Cattle (Feral), Dom...                 NaN  \n",
       "3  Domestic Sheep, Mouflon, Red Sheep, Sheep (Feral)                 NaN  \n",
       "4                                      Wapiti Or Elk                 NaN  "
      ]
     },
     "execution_count": 2,
     "metadata": {},
     "output_type": "execute_result"
    }
   ],
   "source": [
    "species_data = pd.read_csv('species_info.csv',encoding='utf-8')\n",
    "species_data.head() # Displays the first five rows of data from species_data"
   ]
  },
  {
   "cell_type": "markdown",
   "metadata": {},
   "source": [
    "# Observations"
   ]
  },
  {
   "cell_type": "markdown",
   "metadata": {},
   "source": [
    "The observations.csv file contains the following info:\n",
    "- Scientific Name: The scientific name of the species\n",
    "- Park Name: The name of the national park\n",
    "- Observations: The amount of observations in the past 7 days(or 1 week)"
   ]
  },
  {
   "cell_type": "code",
   "execution_count": 4,
   "metadata": {},
   "outputs": [
    {
     "data": {
      "text/html": [
       "<div>\n",
       "<style scoped>\n",
       "    .dataframe tbody tr th:only-of-type {\n",
       "        vertical-align: middle;\n",
       "    }\n",
       "\n",
       "    .dataframe tbody tr th {\n",
       "        vertical-align: top;\n",
       "    }\n",
       "\n",
       "    .dataframe thead th {\n",
       "        text-align: right;\n",
       "    }\n",
       "</style>\n",
       "<table border=\"1\" class=\"dataframe\">\n",
       "  <thead>\n",
       "    <tr style=\"text-align: right;\">\n",
       "      <th></th>\n",
       "      <th>scientific_name</th>\n",
       "      <th>park_name</th>\n",
       "      <th>observations</th>\n",
       "    </tr>\n",
       "  </thead>\n",
       "  <tbody>\n",
       "    <tr>\n",
       "      <th>0</th>\n",
       "      <td>Vicia benghalensis</td>\n",
       "      <td>Great Smoky Mountains National Park</td>\n",
       "      <td>68</td>\n",
       "    </tr>\n",
       "    <tr>\n",
       "      <th>1</th>\n",
       "      <td>Neovison vison</td>\n",
       "      <td>Great Smoky Mountains National Park</td>\n",
       "      <td>77</td>\n",
       "    </tr>\n",
       "    <tr>\n",
       "      <th>2</th>\n",
       "      <td>Prunus subcordata</td>\n",
       "      <td>Yosemite National Park</td>\n",
       "      <td>138</td>\n",
       "    </tr>\n",
       "    <tr>\n",
       "      <th>3</th>\n",
       "      <td>Abutilon theophrasti</td>\n",
       "      <td>Bryce National Park</td>\n",
       "      <td>84</td>\n",
       "    </tr>\n",
       "    <tr>\n",
       "      <th>4</th>\n",
       "      <td>Githopsis specularioides</td>\n",
       "      <td>Great Smoky Mountains National Park</td>\n",
       "      <td>85</td>\n",
       "    </tr>\n",
       "  </tbody>\n",
       "</table>\n",
       "</div>"
      ],
      "text/plain": [
       "            scientific_name                            park_name  observations\n",
       "0        Vicia benghalensis  Great Smoky Mountains National Park            68\n",
       "1            Neovison vison  Great Smoky Mountains National Park            77\n",
       "2         Prunus subcordata               Yosemite National Park           138\n",
       "3      Abutilon theophrasti                  Bryce National Park            84\n",
       "4  Githopsis specularioides  Great Smoky Mountains National Park            85"
      ]
     },
     "execution_count": 4,
     "metadata": {},
     "output_type": "execute_result"
    }
   ],
   "source": [
    "observations_data = pd.read_csv('observations.csv', encoding='utf-8')\n",
    "observations_data.head()"
   ]
  },
  {
   "cell_type": "markdown",
   "metadata": {},
   "source": [
    "# Observing our current data"
   ]
  },
  {
   "cell_type": "code",
   "execution_count": 5,
   "metadata": {},
   "outputs": [
    {
     "name": "stdout",
     "output_type": "stream",
     "text": [
      "The amount of rows in the species data is: 5824\n",
      "The amount of rows in the observations data is: 23296\n"
     ]
    }
   ],
   "source": [
    "print(\"The amount of rows in the species data is: \" + str(len(species_data)))\n",
    "print(\"The amount of rows in the observations data is: \" + str(len(observations_data)))"
   ]
  },
  {
   "cell_type": "code",
   "execution_count": 7,
   "metadata": {},
   "outputs": [
    {
     "name": "stdout",
     "output_type": "stream",
     "text": [
      "The number of species in our data is: 5541\n"
     ]
    }
   ],
   "source": [
    "print(\"The number of species in our data is: \" + str(species_data.scientific_name.nunique()))"
   ]
  },
  {
   "cell_type": "markdown",
   "metadata": {},
   "source": [
    "Let's show how many different categories we have for our species below:"
   ]
  },
  {
   "cell_type": "code",
   "execution_count": 8,
   "metadata": {},
   "outputs": [
    {
     "name": "stdout",
     "output_type": "stream",
     "text": [
      "Number of categories: 7\n",
      "List of categories: ['Mammal' 'Bird' 'Reptile' 'Amphibian' 'Fish' 'Vascular Plant'\n",
      " 'Nonvascular Plant']\n"
     ]
    }
   ],
   "source": [
    "print(\"Number of categories: \" + str(species_data.category.nunique())) # Outputs the number of categories\n",
    "print(\"List of categories: \" + str(species_data.category.unique())) #Outputs the list of different categories(not the amount!)"
   ]
  },
  {
   "cell_type": "markdown",
   "metadata": {},
   "source": [
    "From the data below, it seems like the most of the species are classified as Vascular Plant (4470), while reptiles are the least common in our dataset (79):"
   ]
  },
  {
   "cell_type": "code",
   "execution_count": 12,
   "metadata": {},
   "outputs": [
    {
     "data": {
      "text/plain": [
       "category\n",
       "Amphibian              80\n",
       "Bird                  521\n",
       "Fish                  127\n",
       "Mammal                214\n",
       "Nonvascular Plant     333\n",
       "Reptile                79\n",
       "Vascular Plant       4470\n",
       "dtype: int64"
      ]
     },
     "execution_count": 12,
     "metadata": {},
     "output_type": "execute_result"
    }
   ],
   "source": [
    "species_data.groupby(\"category\").size()"
   ]
  },
  {
   "cell_type": "markdown",
   "metadata": {},
   "source": [
    "Now, let's look at some details about the converstation status of our species:"
   ]
  },
  {
   "cell_type": "code",
   "execution_count": 16,
   "metadata": {},
   "outputs": [
    {
     "name": "stdout",
     "output_type": "stream",
     "text": [
      "Number of conservation statuses: 4\n",
      "List of conservation statuses: [nan 'Species of Concern' 'Endangered' 'Threatened' 'In Recovery']\n",
      "NA Values: 5633\n",
      "Amount in each status: conservation_status\n",
      "Endangered             16\n",
      "In Recovery             4\n",
      "Species of Concern    161\n",
      "Threatened             10\n",
      "dtype: int64\n"
     ]
    }
   ],
   "source": [
    "print(\"Number of conservation statuses: \" + str(species_data.conservation_status.nunique())) # Outputs the number of conservation statuses\n",
    "print(\"List of conservation statuses: \" + str(species_data.conservation_status.unique())) #Outputs the list of different conservation statuses(not the amount!)\n",
    "\n",
    "print(\"NA Values: \" + str(species_data.conservation_status.isna().sum()))\n",
    "print(\"Amount in each status: \" + str(species_data.groupby(\"conservation_status\").size()))"
   ]
  },
  {
   "cell_type": "markdown",
   "metadata": {},
   "source": [
    "Let's see how many observations we have from our observations_data:"
   ]
  },
  {
   "cell_type": "code",
   "execution_count": 21,
   "metadata": {},
   "outputs": [
    {
     "name": "stdout",
     "output_type": "stream",
     "text": [
      "We have 4 parks\n",
      "List of Unique Parks: ['Great Smoky Mountains National Park' 'Yosemite National Park'\n",
      " 'Bryce National Park' 'Yellowstone National Park']\n",
      "There are over 3314739 observations in our data.\n"
     ]
    }
   ],
   "source": [
    "print(\"We have \" + str(observations_data.park_name.nunique()) + \" parks\")\n",
    "print(\"List of Unique Parks: \" + str(observations_data.park_name.unique()))\n",
    "print(\"There are over \" + str(observations_data.observations.sum()) + \" observations in our data.\") "
   ]
  },
  {
   "cell_type": "markdown",
   "metadata": {},
   "source": [
    "There was quite a lot of observations in the past week with over 3,314,739!"
   ]
  },
  {
   "cell_type": "markdown",
   "metadata": {},
   "source": [
    "# Analyzing Our Data"
   ]
  },
  {
   "cell_type": "markdown",
   "metadata": {},
   "source": [
    "We will start analyzing our data after observing a few statistics on some of the data but we do need to clean some data\n",
    "in the conservation_status since there were nan values(nan means not a number):"
   ]
  },
  {
   "cell_type": "markdown",
   "metadata": {},
   "source": [
    "These are the different statuses and what they mean:\n",
    "- Species of Concern: This means the species is declining in health and/or at the brink of conservation\n",
    "- Threatened: Species is highly likely to being endangered soon\n",
    "- Endangered: At extreme levels of risk of extinction\n",
    "- In Recovery: Little to no risk of being endangered for the forseeable future"
   ]
  },
  {
   "cell_type": "code",
   "execution_count": 24,
   "metadata": {},
   "outputs": [
    {
     "data": {
      "text/plain": [
       "conservation_status\n",
       "Endangered              16\n",
       "In Recovery              4\n",
       "No Intervention       5633\n",
       "Species of Concern     161\n",
       "Threatened              10\n",
       "dtype: int64"
      ]
     },
     "execution_count": 24,
     "metadata": {},
     "output_type": "execute_result"
    }
   ],
   "source": [
    "species_data.fillna('No Intervention', inplace=True) #Replace all nan values with 'No Intervention'\n",
    "species_data.groupby('conservation_status').size() # There are 5,633 species that have No Intervention!"
   ]
  },
  {
   "cell_type": "markdown",
   "metadata": {},
   "source": [
    "Now let's look at the conservation status for the different types of species we are covering: "
   ]
  },
  {
   "cell_type": "code",
   "execution_count": 37,
   "metadata": {},
   "outputs": [
    {
     "name": "stdout",
     "output_type": "stream",
     "text": [
      "category             Amphibian  Bird  Fish  Mammal  Nonvascular Plant  \\\n",
      "conservation_status                                                     \n",
      "Endangered                 1.0   4.0   3.0     7.0                NaN   \n",
      "In Recovery                NaN   3.0   NaN     1.0                NaN   \n",
      "Species of Concern         4.0  72.0   4.0    28.0                5.0   \n",
      "Threatened                 2.0   NaN   4.0     2.0                NaN   \n",
      "\n",
      "category             Reptile  Vascular Plant  \n",
      "conservation_status                           \n",
      "Endangered               NaN             1.0  \n",
      "In Recovery              NaN             NaN  \n",
      "Species of Concern       5.0            43.0  \n",
      "Threatened               NaN             2.0  \n"
     ]
    },
    {
     "data": {
      "text/plain": [
       "Text(0.5, 1.0, 'Species and their Conservation Statuses')"
      ]
     },
     "execution_count": 37,
     "metadata": {},
     "output_type": "execute_result"
    },
    {
     "data": {
      "image/png": "[encoded data removed]",
      "text/plain": [
       "<Figure size 720x432 with 1 Axes>"
      ]
     },
     "metadata": {
      "needs_background": "light"
     },
     "output_type": "display_data"
    }
   ],
   "source": [
    "conservation_types = species_data[species_data.conservation_status != \"No Intervention\"]\\\n",
    "    .groupby([\"conservation_status\", \"category\"])['scientific_name']\\\n",
    "    .count()\\\n",
    "    .unstack()\n",
    "\n",
    "print(conservation_types)\n",
    "\n",
    "bar = conservation_types.plot(kind='bar', figsize=(10, 6), stacked=True)\n",
    "bar.set_xlabel(\"Conservation Status\")\n",
    "bar.set_ylabel(\"Number of Species\")\n",
    "bar.set_title(\"Species and their Conservation Statuses\")"
   ]
  },
  {
   "cell_type": "markdown",
   "metadata": {},
   "source": [
    "# Conclusions from Question 1"
   ]
  },
  {
   "cell_type": "markdown",
   "metadata": {},
   "source": [
    "From the data above, it seems like Birds are making a major comeback since there are 3 recovering. However, they also hold\n",
    "the largest amount under Species of Concern with 72.0 so that is quite interesting to look at.\n",
    "Mammals are also concerning since they make up the majority of endangered species with the amount of 7."
   ]
  },
  {
   "cell_type": "markdown",
   "metadata": {},
   "source": [
    "# Species vs. Endangered?"
   ]
  },
  {
   "cell_type": "code",
   "execution_count": 43,
   "metadata": {},
   "outputs": [
    {
     "name": "stdout",
     "output_type": "stream",
     "text": [
      "            category  not_protected  protected  percent_protected\n",
      "0          Amphibian             72          7           8.860759\n",
      "1               Bird            413         75          15.368852\n",
      "2               Fish            115         11           8.730159\n",
      "3             Mammal            146         30          17.045455\n",
      "4  Nonvascular Plant            328          5           1.501502\n",
      "5            Reptile             73          5           6.410256\n",
      "6     Vascular Plant           4216         46           1.079305\n"
     ]
    }
   ],
   "source": [
    "# New Column to show whether or not a species is protected or not\n",
    "species_data['protect_status'] = species_data.conservation_status != 'No Intervention'\n",
    "\n",
    "\n",
    "protect_counts = species_data.groupby(['category', 'protect_status'])\\\n",
    "                        .scientific_name.nunique()\\\n",
    "                        .reset_index()\\\n",
    "                        .pivot(columns='protect_status',\n",
    "                                      index='category',\n",
    "                                      values='scientific_name')\\\n",
    "                        .reset_index()\n",
    "protect_counts.columns = ['category', 'not_protected', 'protected']\n",
    "\n",
    "protect_counts['percent_protected'] = protect_counts.protected / \\\n",
    "                                      (protect_counts.protected + protect_counts.not_protected) * 100\n",
    "\n",
    "print(protect_counts)"
   ]
  },
  {
   "cell_type": "markdown",
   "metadata": {},
   "source": [
    "So from this data, it definitely shows that the highest percentages of species that are protected are Birds, Mammals, Amphibians and Fish. While Vascular Plant species have the second highest amount of protected (46), they have the lowest percentage due to their overwhelming amount of them not being protected (4216)."
   ]
  },
  {
   "cell_type": "markdown",
   "metadata": {},
   "source": [
    "# Statistical Significance of Species and their Conservation Status"
   ]
  },
  {
   "cell_type": "code",
   "execution_count": 45,
   "metadata": {},
   "outputs": [
    {
     "data": {
      "text/plain": [
       "(0.1617014831654557,\n",
       " 0.6875948096661336,\n",
       " 1,\n",
       " array([[ 27.8313253, 148.1686747],\n",
       "        [ 77.1686747, 410.8313253]]))"
      ]
     },
     "execution_count": 45,
     "metadata": {},
     "output_type": "execute_result"
    }
   ],
   "source": [
    "from scipy.stats import chi2_contingency\n",
    "\n",
    "contingency_species = [[30, 146], # Values from mammals\n",
    "              [75, 413]] # Values from birds\n",
    "chi2_contingency(contingency1) # Compute the chi square test"
   ]
  },
  {
   "cell_type": "markdown",
   "metadata": {},
   "source": [
    "The value to aim for in these chi2 square test is 0.05 or lower. The value provided in this data is roughly around 0.69 which \n",
    "indicates there is no relationship between mammals and birds, meaning they are independent of each other."
   ]
  },
  {
   "cell_type": "code",
   "execution_count": 46,
   "metadata": {},
   "outputs": [
    {
     "data": {
      "text/plain": [
       "(2.321746712946015,\n",
       " 0.12757669693198975,\n",
       " 1,\n",
       " array([[ 25.5372549, 150.4627451],\n",
       "        [ 11.4627451,  67.5372549]]))"
      ]
     },
     "execution_count": 46,
     "metadata": {},
     "output_type": "execute_result"
    }
   ],
   "source": [
    "con_2 = [[30, 146],\n",
    "    [7, 72]]\n",
    " \n",
    "chi2_contingency(con_2)"
   ]
  },
  {
   "cell_type": "markdown",
   "metadata": {},
   "source": [
    "In the code above, we can see that the value between mammals and amphibians is around 0.13, much lower than the 0.69 amount from earlier but still shows that there is little to no relationship between the two"
   ]
  },
  {
   "cell_type": "markdown",
   "metadata": {},
   "source": [
    "# Species at the Park"
   ]
  },
  {
   "cell_type": "markdown",
   "metadata": {},
   "source": [
    "We will need to split up some of our data and clean it up below:"
   ]
  },
  {
   "cell_type": "code",
   "execution_count": 50,
   "metadata": {},
   "outputs": [
    {
     "data": {
      "text/plain": [
       "['Gappers', 'RedBacked', 'Vole', 'American', 'Bison', 'Aurochs']"
      ]
     },
     "execution_count": 50,
     "metadata": {},
     "output_type": "execute_result"
    }
   ],
   "source": [
    "from itertools import chain\n",
    "import string\n",
    "\n",
    "# The following function will remove punctuation such as , with whitespace ' '\n",
    "def remove_punctuations(text):\n",
    "    for punctuation in string.punctuation:\n",
    "        text = text.replace(punctuation, '')\n",
    "    return text\n",
    "\n",
    "common_Names = species_data[species_data.category == \"Mammal\"]\\\n",
    "    .common_names\\\n",
    "    .apply(remove_punctuations)\\\n",
    "    .str.split().tolist()\n",
    "\n",
    "common_Names[:6] #Gets the common names up to(not including) the 6th index of the name!\n",
    "\n",
    "cleanRows = []\n",
    "\n",
    "for item in common_Names:\n",
    "    item = list(dict.fromkeys(item))\n",
    "    cleanRows.append(item)\n",
    "    \n",
    "cleanRows[:6]\n",
    "\n",
    "\n",
    "# Compile into one list to make it easier to understand\n",
    "res = list(chain.from_iterable(i if isinstance(i, list) else [i] for i in cleanRows))\n",
    "res[:6]"
   ]
  },
  {
   "cell_type": "markdown",
   "metadata": {},
   "source": [
    "Now we can finally start finishing our final question below:"
   ]
  },
  {
   "cell_type": "code",
   "execution_count": 52,
   "metadata": {},
   "outputs": [
    {
     "data": {
      "text/html": [
       "<div>\n",
       "<style scoped>\n",
       "    .dataframe tbody tr th:only-of-type {\n",
       "        vertical-align: middle;\n",
       "    }\n",
       "\n",
       "    .dataframe tbody tr th {\n",
       "        vertical-align: top;\n",
       "    }\n",
       "\n",
       "    .dataframe thead th {\n",
       "        text-align: right;\n",
       "    }\n",
       "</style>\n",
       "<table border=\"1\" class=\"dataframe\">\n",
       "  <thead>\n",
       "    <tr style=\"text-align: right;\">\n",
       "      <th></th>\n",
       "      <th>Word</th>\n",
       "      <th>Count</th>\n",
       "    </tr>\n",
       "  </thead>\n",
       "  <tbody>\n",
       "    <tr>\n",
       "      <th>37</th>\n",
       "      <td>Bat</td>\n",
       "      <td>23</td>\n",
       "    </tr>\n",
       "    <tr>\n",
       "      <th>176</th>\n",
       "      <td>Shrew</td>\n",
       "      <td>18</td>\n",
       "    </tr>\n",
       "    <tr>\n",
       "      <th>66</th>\n",
       "      <td>Myotis</td>\n",
       "      <td>17</td>\n",
       "    </tr>\n",
       "    <tr>\n",
       "      <th>198</th>\n",
       "      <td>Mouse</td>\n",
       "      <td>16</td>\n",
       "    </tr>\n",
       "    <tr>\n",
       "      <th>161</th>\n",
       "      <td>Chipmunk</td>\n",
       "      <td>13</td>\n",
       "    </tr>\n",
       "    <tr>\n",
       "      <th>40</th>\n",
       "      <td>Squirrel</td>\n",
       "      <td>12</td>\n",
       "    </tr>\n",
       "    <tr>\n",
       "      <th>39</th>\n",
       "      <td>American</td>\n",
       "      <td>12</td>\n",
       "    </tr>\n",
       "    <tr>\n",
       "      <th>54</th>\n",
       "      <td>Vole</td>\n",
       "      <td>11</td>\n",
       "    </tr>\n",
       "    <tr>\n",
       "      <th>141</th>\n",
       "      <td>Eastern</td>\n",
       "      <td>11</td>\n",
       "    </tr>\n",
       "    <tr>\n",
       "      <th>101</th>\n",
       "      <td>Western</td>\n",
       "      <td>10</td>\n",
       "    </tr>\n",
       "  </tbody>\n",
       "</table>\n",
       "</div>"
      ],
      "text/plain": [
       "         Word  Count\n",
       "37        Bat     23\n",
       "176     Shrew     18\n",
       "66     Myotis     17\n",
       "198     Mouse     16\n",
       "161  Chipmunk     13\n",
       "40   Squirrel     12\n",
       "39   American     12\n",
       "54       Vole     11\n",
       "141   Eastern     11\n",
       "101   Western     10"
      ]
     },
     "execution_count": 52,
     "metadata": {},
     "output_type": "execute_result"
    }
   ],
   "source": [
    "words_counted = []\n",
    "\n",
    "for i in res:\n",
    "    x = res.count(i)\n",
    "    words_counted.append((i,x))\n",
    "\n",
    "pd.DataFrame(set(words_counted), columns =['Word', 'Count']).sort_values(\"Count\", ascending = False).head(10)\n",
    "# Show the data below, most of them are bats, followed by shrews and myotis"
   ]
  },
  {
   "cell_type": "code",
   "execution_count": 77,
   "metadata": {},
   "outputs": [
    {
     "data": {
      "text/html": [
       "<div>\n",
       "<style scoped>\n",
       "    .dataframe tbody tr th:only-of-type {\n",
       "        vertical-align: middle;\n",
       "    }\n",
       "\n",
       "    .dataframe tbody tr th {\n",
       "        vertical-align: top;\n",
       "    }\n",
       "\n",
       "    .dataframe thead th {\n",
       "        text-align: right;\n",
       "    }\n",
       "</style>\n",
       "<table border=\"1\" class=\"dataframe\">\n",
       "  <thead>\n",
       "    <tr style=\"text-align: right;\">\n",
       "      <th></th>\n",
       "      <th>category</th>\n",
       "      <th>scientific_name</th>\n",
       "      <th>common_names</th>\n",
       "      <th>conservation_status</th>\n",
       "      <th>protect_status</th>\n",
       "      <th>is_mouse</th>\n",
       "      <th>is_bat</th>\n",
       "    </tr>\n",
       "  </thead>\n",
       "  <tbody>\n",
       "    <tr>\n",
       "      <th>0</th>\n",
       "      <td>Mammal</td>\n",
       "      <td>Clethrionomys gapperi gapperi</td>\n",
       "      <td>Gapper's Red-Backed Vole</td>\n",
       "      <td>No Intervention</td>\n",
       "      <td>False</td>\n",
       "      <td>False</td>\n",
       "      <td>False</td>\n",
       "    </tr>\n",
       "    <tr>\n",
       "      <th>1</th>\n",
       "      <td>Mammal</td>\n",
       "      <td>Bos bison</td>\n",
       "      <td>American Bison, Bison</td>\n",
       "      <td>No Intervention</td>\n",
       "      <td>False</td>\n",
       "      <td>False</td>\n",
       "      <td>False</td>\n",
       "    </tr>\n",
       "    <tr>\n",
       "      <th>2</th>\n",
       "      <td>Mammal</td>\n",
       "      <td>Bos taurus</td>\n",
       "      <td>Aurochs, Aurochs, Domestic Cattle (Feral), Dom...</td>\n",
       "      <td>No Intervention</td>\n",
       "      <td>False</td>\n",
       "      <td>False</td>\n",
       "      <td>False</td>\n",
       "    </tr>\n",
       "    <tr>\n",
       "      <th>3</th>\n",
       "      <td>Mammal</td>\n",
       "      <td>Ovis aries</td>\n",
       "      <td>Domestic Sheep, Mouflon, Red Sheep, Sheep (Feral)</td>\n",
       "      <td>No Intervention</td>\n",
       "      <td>False</td>\n",
       "      <td>False</td>\n",
       "      <td>False</td>\n",
       "    </tr>\n",
       "    <tr>\n",
       "      <th>4</th>\n",
       "      <td>Mammal</td>\n",
       "      <td>Cervus elaphus</td>\n",
       "      <td>Wapiti Or Elk</td>\n",
       "      <td>No Intervention</td>\n",
       "      <td>False</td>\n",
       "      <td>False</td>\n",
       "      <td>False</td>\n",
       "    </tr>\n",
       "    <tr>\n",
       "      <th>5</th>\n",
       "      <td>Mammal</td>\n",
       "      <td>Odocoileus virginianus</td>\n",
       "      <td>White-Tailed Deer</td>\n",
       "      <td>No Intervention</td>\n",
       "      <td>False</td>\n",
       "      <td>False</td>\n",
       "      <td>False</td>\n",
       "    </tr>\n",
       "    <tr>\n",
       "      <th>6</th>\n",
       "      <td>Mammal</td>\n",
       "      <td>Sus scrofa</td>\n",
       "      <td>Feral Hog, Wild Pig</td>\n",
       "      <td>No Intervention</td>\n",
       "      <td>False</td>\n",
       "      <td>False</td>\n",
       "      <td>False</td>\n",
       "    </tr>\n",
       "    <tr>\n",
       "      <th>7</th>\n",
       "      <td>Mammal</td>\n",
       "      <td>Canis latrans</td>\n",
       "      <td>Coyote</td>\n",
       "      <td>Species of Concern</td>\n",
       "      <td>True</td>\n",
       "      <td>False</td>\n",
       "      <td>False</td>\n",
       "    </tr>\n",
       "    <tr>\n",
       "      <th>8</th>\n",
       "      <td>Mammal</td>\n",
       "      <td>Canis lupus</td>\n",
       "      <td>Gray Wolf</td>\n",
       "      <td>Endangered</td>\n",
       "      <td>True</td>\n",
       "      <td>False</td>\n",
       "      <td>False</td>\n",
       "    </tr>\n",
       "    <tr>\n",
       "      <th>9</th>\n",
       "      <td>Mammal</td>\n",
       "      <td>Canis rufus</td>\n",
       "      <td>Red Wolf</td>\n",
       "      <td>Endangered</td>\n",
       "      <td>True</td>\n",
       "      <td>False</td>\n",
       "      <td>False</td>\n",
       "    </tr>\n",
       "  </tbody>\n",
       "</table>\n",
       "</div>"
      ],
      "text/plain": [
       "  category                scientific_name  \\\n",
       "0   Mammal  Clethrionomys gapperi gapperi   \n",
       "1   Mammal                      Bos bison   \n",
       "2   Mammal                     Bos taurus   \n",
       "3   Mammal                     Ovis aries   \n",
       "4   Mammal                 Cervus elaphus   \n",
       "5   Mammal         Odocoileus virginianus   \n",
       "6   Mammal                     Sus scrofa   \n",
       "7   Mammal                  Canis latrans   \n",
       "8   Mammal                    Canis lupus   \n",
       "9   Mammal                    Canis rufus   \n",
       "\n",
       "                                        common_names conservation_status  \\\n",
       "0                           Gapper's Red-Backed Vole     No Intervention   \n",
       "1                              American Bison, Bison     No Intervention   \n",
       "2  Aurochs, Aurochs, Domestic Cattle (Feral), Dom...     No Intervention   \n",
       "3  Domestic Sheep, Mouflon, Red Sheep, Sheep (Feral)     No Intervention   \n",
       "4                                      Wapiti Or Elk     No Intervention   \n",
       "5                                  White-Tailed Deer     No Intervention   \n",
       "6                                Feral Hog, Wild Pig     No Intervention   \n",
       "7                                             Coyote  Species of Concern   \n",
       "8                                          Gray Wolf          Endangered   \n",
       "9                                           Red Wolf          Endangered   \n",
       "\n",
       "   protect_status  is_mouse  is_bat  \n",
       "0           False     False   False  \n",
       "1           False     False   False  \n",
       "2           False     False   False  \n",
       "3           False     False   False  \n",
       "4           False     False   False  \n",
       "5           False     False   False  \n",
       "6           False     False   False  \n",
       "7            True     False   False  \n",
       "8            True     False   False  \n",
       "9            True     False   False  "
      ]
     },
     "execution_count": 77,
     "metadata": {},
     "output_type": "execute_result"
    }
   ],
   "source": [
    "species_data['is_bat'] = species_data.common_names.str.contains(r\"\\bBat\\b\", regex = True)\n",
    "\n",
    "species_data.head(10) # Shows the first 10 rows of data "
   ]
  },
  {
   "cell_type": "code",
   "execution_count": 78,
   "metadata": {},
   "outputs": [
    {
     "data": {
      "text/html": [
       "<div>\n",
       "<style scoped>\n",
       "    .dataframe tbody tr th:only-of-type {\n",
       "        vertical-align: middle;\n",
       "    }\n",
       "\n",
       "    .dataframe tbody tr th {\n",
       "        vertical-align: top;\n",
       "    }\n",
       "\n",
       "    .dataframe thead th {\n",
       "        text-align: right;\n",
       "    }\n",
       "</style>\n",
       "<table border=\"1\" class=\"dataframe\">\n",
       "  <thead>\n",
       "    <tr style=\"text-align: right;\">\n",
       "      <th></th>\n",
       "      <th>category</th>\n",
       "      <th>scientific_name</th>\n",
       "      <th>common_names</th>\n",
       "      <th>conservation_status</th>\n",
       "      <th>protect_status</th>\n",
       "      <th>is_mouse</th>\n",
       "      <th>is_bat</th>\n",
       "    </tr>\n",
       "  </thead>\n",
       "  <tbody>\n",
       "    <tr>\n",
       "      <th>28</th>\n",
       "      <td>Mammal</td>\n",
       "      <td>Corynorhinus rafinesquii</td>\n",
       "      <td>Rafinesque's Big-Eared Bat</td>\n",
       "      <td>No Intervention</td>\n",
       "      <td>False</td>\n",
       "      <td>False</td>\n",
       "      <td>True</td>\n",
       "    </tr>\n",
       "    <tr>\n",
       "      <th>29</th>\n",
       "      <td>Mammal</td>\n",
       "      <td>Eptesicus fuscus</td>\n",
       "      <td>Big Brown Bat</td>\n",
       "      <td>Species of Concern</td>\n",
       "      <td>True</td>\n",
       "      <td>False</td>\n",
       "      <td>True</td>\n",
       "    </tr>\n",
       "    <tr>\n",
       "      <th>30</th>\n",
       "      <td>Mammal</td>\n",
       "      <td>Lasionycteris noctivagans</td>\n",
       "      <td>Silver-Haired Bat</td>\n",
       "      <td>Species of Concern</td>\n",
       "      <td>True</td>\n",
       "      <td>False</td>\n",
       "      <td>True</td>\n",
       "    </tr>\n",
       "    <tr>\n",
       "      <th>31</th>\n",
       "      <td>Mammal</td>\n",
       "      <td>Lasiurus borealis</td>\n",
       "      <td>Eastern Red Bat, Red Bat</td>\n",
       "      <td>No Intervention</td>\n",
       "      <td>False</td>\n",
       "      <td>False</td>\n",
       "      <td>True</td>\n",
       "    </tr>\n",
       "    <tr>\n",
       "      <th>32</th>\n",
       "      <td>Mammal</td>\n",
       "      <td>Lasiurus cinereus</td>\n",
       "      <td>Hoary Bat</td>\n",
       "      <td>No Intervention</td>\n",
       "      <td>False</td>\n",
       "      <td>False</td>\n",
       "      <td>True</td>\n",
       "    </tr>\n",
       "    <tr>\n",
       "      <th>36</th>\n",
       "      <td>Mammal</td>\n",
       "      <td>Myotis leibii</td>\n",
       "      <td>Eastern Small-Footed Bat, Eastern Small-Footed...</td>\n",
       "      <td>Species of Concern</td>\n",
       "      <td>True</td>\n",
       "      <td>False</td>\n",
       "      <td>True</td>\n",
       "    </tr>\n",
       "    <tr>\n",
       "      <th>37</th>\n",
       "      <td>Mammal</td>\n",
       "      <td>Myotis lucifugus</td>\n",
       "      <td>Little Brown Bat, Little Brown Myotis</td>\n",
       "      <td>Species of Concern</td>\n",
       "      <td>True</td>\n",
       "      <td>False</td>\n",
       "      <td>True</td>\n",
       "    </tr>\n",
       "    <tr>\n",
       "      <th>38</th>\n",
       "      <td>Mammal</td>\n",
       "      <td>Myotis septentrionalis</td>\n",
       "      <td>Northern Long-Eared Bat, Northern Myotis</td>\n",
       "      <td>Threatened</td>\n",
       "      <td>True</td>\n",
       "      <td>False</td>\n",
       "      <td>True</td>\n",
       "    </tr>\n",
       "    <tr>\n",
       "      <th>39</th>\n",
       "      <td>Mammal</td>\n",
       "      <td>Myotis sodalis</td>\n",
       "      <td>Indiana Bat, Indiana Or Social Myotis</td>\n",
       "      <td>Endangered</td>\n",
       "      <td>True</td>\n",
       "      <td>False</td>\n",
       "      <td>True</td>\n",
       "    </tr>\n",
       "    <tr>\n",
       "      <th>40</th>\n",
       "      <td>Mammal</td>\n",
       "      <td>Nycticeius humeralis</td>\n",
       "      <td>Evening Bat</td>\n",
       "      <td>No Intervention</td>\n",
       "      <td>False</td>\n",
       "      <td>False</td>\n",
       "      <td>True</td>\n",
       "    </tr>\n",
       "    <tr>\n",
       "      <th>3033</th>\n",
       "      <td>Mammal</td>\n",
       "      <td>Antrozous pallidus</td>\n",
       "      <td>Pallid Bat, Pallid Bat</td>\n",
       "      <td>Species of Concern</td>\n",
       "      <td>True</td>\n",
       "      <td>False</td>\n",
       "      <td>True</td>\n",
       "    </tr>\n",
       "    <tr>\n",
       "      <th>3034</th>\n",
       "      <td>Mammal</td>\n",
       "      <td>Corynorhinus townsendii</td>\n",
       "      <td>Mule-Eared Bat, Pacific Townsend's Big-Eared B...</td>\n",
       "      <td>No Intervention</td>\n",
       "      <td>False</td>\n",
       "      <td>False</td>\n",
       "      <td>True</td>\n",
       "    </tr>\n",
       "    <tr>\n",
       "      <th>3035</th>\n",
       "      <td>Mammal</td>\n",
       "      <td>Eptesicus fuscus</td>\n",
       "      <td>Big Brown Bat, Big Brown Bat</td>\n",
       "      <td>Species of Concern</td>\n",
       "      <td>True</td>\n",
       "      <td>False</td>\n",
       "      <td>True</td>\n",
       "    </tr>\n",
       "    <tr>\n",
       "      <th>3036</th>\n",
       "      <td>Mammal</td>\n",
       "      <td>Euderma maculatum</td>\n",
       "      <td>Spotted Bat, Spotted Bat</td>\n",
       "      <td>Species of Concern</td>\n",
       "      <td>True</td>\n",
       "      <td>False</td>\n",
       "      <td>True</td>\n",
       "    </tr>\n",
       "    <tr>\n",
       "      <th>3037</th>\n",
       "      <td>Mammal</td>\n",
       "      <td>Lasionycteris noctivagans</td>\n",
       "      <td>Silver-Haired Bat, Silver-Haired Bat</td>\n",
       "      <td>Species of Concern</td>\n",
       "      <td>True</td>\n",
       "      <td>False</td>\n",
       "      <td>True</td>\n",
       "    </tr>\n",
       "    <tr>\n",
       "      <th>3038</th>\n",
       "      <td>Mammal</td>\n",
       "      <td>Lasiurus cinereus</td>\n",
       "      <td>Hoary Bat, Hoary Bat</td>\n",
       "      <td>No Intervention</td>\n",
       "      <td>False</td>\n",
       "      <td>False</td>\n",
       "      <td>True</td>\n",
       "    </tr>\n",
       "    <tr>\n",
       "      <th>3040</th>\n",
       "      <td>Mammal</td>\n",
       "      <td>Myotis ciliolabrum</td>\n",
       "      <td>Small-Footed Myotis, Western Small-Footed Bat,...</td>\n",
       "      <td>No Intervention</td>\n",
       "      <td>False</td>\n",
       "      <td>False</td>\n",
       "      <td>True</td>\n",
       "    </tr>\n",
       "    <tr>\n",
       "      <th>3042</th>\n",
       "      <td>Mammal</td>\n",
       "      <td>Myotis lucifugus</td>\n",
       "      <td>Little Brown Bat, Little Brown Myotis, Little ...</td>\n",
       "      <td>Species of Concern</td>\n",
       "      <td>True</td>\n",
       "      <td>False</td>\n",
       "      <td>True</td>\n",
       "    </tr>\n",
       "    <tr>\n",
       "      <th>4461</th>\n",
       "      <td>Mammal</td>\n",
       "      <td>Eumops perotis</td>\n",
       "      <td>Western Mastiff Bat</td>\n",
       "      <td>No Intervention</td>\n",
       "      <td>False</td>\n",
       "      <td>False</td>\n",
       "      <td>True</td>\n",
       "    </tr>\n",
       "    <tr>\n",
       "      <th>4462</th>\n",
       "      <td>Mammal</td>\n",
       "      <td>Tadarida brasiliensis</td>\n",
       "      <td>Mexican Free-Tailed Bat</td>\n",
       "      <td>No Intervention</td>\n",
       "      <td>False</td>\n",
       "      <td>False</td>\n",
       "      <td>True</td>\n",
       "    </tr>\n",
       "    <tr>\n",
       "      <th>4463</th>\n",
       "      <td>Mammal</td>\n",
       "      <td>Corynorhinus townsendii</td>\n",
       "      <td>Townsend's Big-Eared Bat</td>\n",
       "      <td>No Intervention</td>\n",
       "      <td>False</td>\n",
       "      <td>False</td>\n",
       "      <td>True</td>\n",
       "    </tr>\n",
       "    <tr>\n",
       "      <th>4464</th>\n",
       "      <td>Mammal</td>\n",
       "      <td>Lasiurus blossevillii</td>\n",
       "      <td>Western Red Bat</td>\n",
       "      <td>Species of Concern</td>\n",
       "      <td>True</td>\n",
       "      <td>False</td>\n",
       "      <td>True</td>\n",
       "    </tr>\n",
       "    <tr>\n",
       "      <th>4468</th>\n",
       "      <td>Mammal</td>\n",
       "      <td>Parastrellus hesperus</td>\n",
       "      <td>Canyon Bat</td>\n",
       "      <td>No Intervention</td>\n",
       "      <td>False</td>\n",
       "      <td>False</td>\n",
       "      <td>True</td>\n",
       "    </tr>\n",
       "  </tbody>\n",
       "</table>\n",
       "</div>"
      ],
      "text/plain": [
       "     category            scientific_name  \\\n",
       "28     Mammal   Corynorhinus rafinesquii   \n",
       "29     Mammal           Eptesicus fuscus   \n",
       "30     Mammal  Lasionycteris noctivagans   \n",
       "31     Mammal          Lasiurus borealis   \n",
       "32     Mammal          Lasiurus cinereus   \n",
       "36     Mammal              Myotis leibii   \n",
       "37     Mammal           Myotis lucifugus   \n",
       "38     Mammal     Myotis septentrionalis   \n",
       "39     Mammal             Myotis sodalis   \n",
       "40     Mammal       Nycticeius humeralis   \n",
       "3033   Mammal         Antrozous pallidus   \n",
       "3034   Mammal    Corynorhinus townsendii   \n",
       "3035   Mammal           Eptesicus fuscus   \n",
       "3036   Mammal          Euderma maculatum   \n",
       "3037   Mammal  Lasionycteris noctivagans   \n",
       "3038   Mammal          Lasiurus cinereus   \n",
       "3040   Mammal         Myotis ciliolabrum   \n",
       "3042   Mammal           Myotis lucifugus   \n",
       "4461   Mammal             Eumops perotis   \n",
       "4462   Mammal      Tadarida brasiliensis   \n",
       "4463   Mammal    Corynorhinus townsendii   \n",
       "4464   Mammal      Lasiurus blossevillii   \n",
       "4468   Mammal      Parastrellus hesperus   \n",
       "\n",
       "                                           common_names conservation_status  \\\n",
       "28                           Rafinesque's Big-Eared Bat     No Intervention   \n",
       "29                                        Big Brown Bat  Species of Concern   \n",
       "30                                    Silver-Haired Bat  Species of Concern   \n",
       "31                             Eastern Red Bat, Red Bat     No Intervention   \n",
       "32                                            Hoary Bat     No Intervention   \n",
       "36    Eastern Small-Footed Bat, Eastern Small-Footed...  Species of Concern   \n",
       "37                Little Brown Bat, Little Brown Myotis  Species of Concern   \n",
       "38             Northern Long-Eared Bat, Northern Myotis          Threatened   \n",
       "39                Indiana Bat, Indiana Or Social Myotis          Endangered   \n",
       "40                                          Evening Bat     No Intervention   \n",
       "3033                             Pallid Bat, Pallid Bat  Species of Concern   \n",
       "3034  Mule-Eared Bat, Pacific Townsend's Big-Eared B...     No Intervention   \n",
       "3035                       Big Brown Bat, Big Brown Bat  Species of Concern   \n",
       "3036                           Spotted Bat, Spotted Bat  Species of Concern   \n",
       "3037               Silver-Haired Bat, Silver-Haired Bat  Species of Concern   \n",
       "3038                               Hoary Bat, Hoary Bat     No Intervention   \n",
       "3040  Small-Footed Myotis, Western Small-Footed Bat,...     No Intervention   \n",
       "3042  Little Brown Bat, Little Brown Myotis, Little ...  Species of Concern   \n",
       "4461                                Western Mastiff Bat     No Intervention   \n",
       "4462                            Mexican Free-Tailed Bat     No Intervention   \n",
       "4463                           Townsend's Big-Eared Bat     No Intervention   \n",
       "4464                                    Western Red Bat  Species of Concern   \n",
       "4468                                         Canyon Bat     No Intervention   \n",
       "\n",
       "      protect_status  is_mouse  is_bat  \n",
       "28             False     False    True  \n",
       "29              True     False    True  \n",
       "30              True     False    True  \n",
       "31             False     False    True  \n",
       "32             False     False    True  \n",
       "36              True     False    True  \n",
       "37              True     False    True  \n",
       "38              True     False    True  \n",
       "39              True     False    True  \n",
       "40             False     False    True  \n",
       "3033            True     False    True  \n",
       "3034           False     False    True  \n",
       "3035            True     False    True  \n",
       "3036            True     False    True  \n",
       "3037            True     False    True  \n",
       "3038           False     False    True  \n",
       "3040           False     False    True  \n",
       "3042            True     False    True  \n",
       "4461           False     False    True  \n",
       "4462           False     False    True  \n",
       "4463           False     False    True  \n",
       "4464            True     False    True  \n",
       "4468           False     False    True  "
      ]
     },
     "execution_count": 78,
     "metadata": {},
     "output_type": "execute_result"
    }
   ],
   "source": [
    "# Show all the instances of is_mouse == True\n",
    "species_data[species_data.is_bat]"
   ]
  },
  {
   "cell_type": "code",
   "execution_count": 79,
   "metadata": {},
   "outputs": [
    {
     "data": {
      "text/html": [
       "<div>\n",
       "<style scoped>\n",
       "    .dataframe tbody tr th:only-of-type {\n",
       "        vertical-align: middle;\n",
       "    }\n",
       "\n",
       "    .dataframe tbody tr th {\n",
       "        vertical-align: top;\n",
       "    }\n",
       "\n",
       "    .dataframe thead th {\n",
       "        text-align: right;\n",
       "    }\n",
       "</style>\n",
       "<table border=\"1\" class=\"dataframe\">\n",
       "  <thead>\n",
       "    <tr style=\"text-align: right;\">\n",
       "      <th></th>\n",
       "      <th>scientific_name</th>\n",
       "      <th>park_name</th>\n",
       "      <th>observations</th>\n",
       "      <th>category</th>\n",
       "      <th>common_names</th>\n",
       "      <th>conservation_status</th>\n",
       "      <th>protect_status</th>\n",
       "      <th>is_mouse</th>\n",
       "      <th>is_bat</th>\n",
       "    </tr>\n",
       "  </thead>\n",
       "  <tbody>\n",
       "    <tr>\n",
       "      <th>0</th>\n",
       "      <td>Lasiurus blossevillii</td>\n",
       "      <td>Bryce National Park</td>\n",
       "      <td>113</td>\n",
       "      <td>Mammal</td>\n",
       "      <td>Western Red Bat</td>\n",
       "      <td>Species of Concern</td>\n",
       "      <td>True</td>\n",
       "      <td>False</td>\n",
       "      <td>True</td>\n",
       "    </tr>\n",
       "    <tr>\n",
       "      <th>1</th>\n",
       "      <td>Lasiurus blossevillii</td>\n",
       "      <td>Great Smoky Mountains National Park</td>\n",
       "      <td>70</td>\n",
       "      <td>Mammal</td>\n",
       "      <td>Western Red Bat</td>\n",
       "      <td>Species of Concern</td>\n",
       "      <td>True</td>\n",
       "      <td>False</td>\n",
       "      <td>True</td>\n",
       "    </tr>\n",
       "    <tr>\n",
       "      <th>2</th>\n",
       "      <td>Lasiurus blossevillii</td>\n",
       "      <td>Yosemite National Park</td>\n",
       "      <td>123</td>\n",
       "      <td>Mammal</td>\n",
       "      <td>Western Red Bat</td>\n",
       "      <td>Species of Concern</td>\n",
       "      <td>True</td>\n",
       "      <td>False</td>\n",
       "      <td>True</td>\n",
       "    </tr>\n",
       "    <tr>\n",
       "      <th>3</th>\n",
       "      <td>Lasiurus blossevillii</td>\n",
       "      <td>Yellowstone National Park</td>\n",
       "      <td>221</td>\n",
       "      <td>Mammal</td>\n",
       "      <td>Western Red Bat</td>\n",
       "      <td>Species of Concern</td>\n",
       "      <td>True</td>\n",
       "      <td>False</td>\n",
       "      <td>True</td>\n",
       "    </tr>\n",
       "    <tr>\n",
       "      <th>4</th>\n",
       "      <td>Corynorhinus rafinesquii</td>\n",
       "      <td>Yosemite National Park</td>\n",
       "      <td>188</td>\n",
       "      <td>Mammal</td>\n",
       "      <td>Rafinesque's Big-Eared Bat</td>\n",
       "      <td>No Intervention</td>\n",
       "      <td>False</td>\n",
       "      <td>False</td>\n",
       "      <td>True</td>\n",
       "    </tr>\n",
       "    <tr>\n",
       "      <th>...</th>\n",
       "      <td>...</td>\n",
       "      <td>...</td>\n",
       "      <td>...</td>\n",
       "      <td>...</td>\n",
       "      <td>...</td>\n",
       "      <td>...</td>\n",
       "      <td>...</td>\n",
       "      <td>...</td>\n",
       "      <td>...</td>\n",
       "    </tr>\n",
       "    <tr>\n",
       "      <th>139</th>\n",
       "      <td>Myotis sodalis</td>\n",
       "      <td>Yellowstone National Park</td>\n",
       "      <td>68</td>\n",
       "      <td>Mammal</td>\n",
       "      <td>Indiana Bat, Indiana Or Social Myotis</td>\n",
       "      <td>Endangered</td>\n",
       "      <td>True</td>\n",
       "      <td>False</td>\n",
       "      <td>True</td>\n",
       "    </tr>\n",
       "    <tr>\n",
       "      <th>140</th>\n",
       "      <td>Myotis leibii</td>\n",
       "      <td>Yosemite National Park</td>\n",
       "      <td>132</td>\n",
       "      <td>Mammal</td>\n",
       "      <td>Eastern Small-Footed Bat, Eastern Small-Footed...</td>\n",
       "      <td>Species of Concern</td>\n",
       "      <td>True</td>\n",
       "      <td>False</td>\n",
       "      <td>True</td>\n",
       "    </tr>\n",
       "    <tr>\n",
       "      <th>141</th>\n",
       "      <td>Myotis leibii</td>\n",
       "      <td>Bryce National Park</td>\n",
       "      <td>84</td>\n",
       "      <td>Mammal</td>\n",
       "      <td>Eastern Small-Footed Bat, Eastern Small-Footed...</td>\n",
       "      <td>Species of Concern</td>\n",
       "      <td>True</td>\n",
       "      <td>False</td>\n",
       "      <td>True</td>\n",
       "    </tr>\n",
       "    <tr>\n",
       "      <th>142</th>\n",
       "      <td>Myotis leibii</td>\n",
       "      <td>Great Smoky Mountains National Park</td>\n",
       "      <td>49</td>\n",
       "      <td>Mammal</td>\n",
       "      <td>Eastern Small-Footed Bat, Eastern Small-Footed...</td>\n",
       "      <td>Species of Concern</td>\n",
       "      <td>True</td>\n",
       "      <td>False</td>\n",
       "      <td>True</td>\n",
       "    </tr>\n",
       "    <tr>\n",
       "      <th>143</th>\n",
       "      <td>Myotis leibii</td>\n",
       "      <td>Yellowstone National Park</td>\n",
       "      <td>233</td>\n",
       "      <td>Mammal</td>\n",
       "      <td>Eastern Small-Footed Bat, Eastern Small-Footed...</td>\n",
       "      <td>Species of Concern</td>\n",
       "      <td>True</td>\n",
       "      <td>False</td>\n",
       "      <td>True</td>\n",
       "    </tr>\n",
       "  </tbody>\n",
       "</table>\n",
       "<p>144 rows × 9 columns</p>\n",
       "</div>"
      ],
      "text/plain": [
       "              scientific_name                            park_name  \\\n",
       "0       Lasiurus blossevillii                  Bryce National Park   \n",
       "1       Lasiurus blossevillii  Great Smoky Mountains National Park   \n",
       "2       Lasiurus blossevillii               Yosemite National Park   \n",
       "3       Lasiurus blossevillii            Yellowstone National Park   \n",
       "4    Corynorhinus rafinesquii               Yosemite National Park   \n",
       "..                        ...                                  ...   \n",
       "139            Myotis sodalis            Yellowstone National Park   \n",
       "140             Myotis leibii               Yosemite National Park   \n",
       "141             Myotis leibii                  Bryce National Park   \n",
       "142             Myotis leibii  Great Smoky Mountains National Park   \n",
       "143             Myotis leibii            Yellowstone National Park   \n",
       "\n",
       "     observations category                                       common_names  \\\n",
       "0             113   Mammal                                    Western Red Bat   \n",
       "1              70   Mammal                                    Western Red Bat   \n",
       "2             123   Mammal                                    Western Red Bat   \n",
       "3             221   Mammal                                    Western Red Bat   \n",
       "4             188   Mammal                         Rafinesque's Big-Eared Bat   \n",
       "..            ...      ...                                                ...   \n",
       "139            68   Mammal              Indiana Bat, Indiana Or Social Myotis   \n",
       "140           132   Mammal  Eastern Small-Footed Bat, Eastern Small-Footed...   \n",
       "141            84   Mammal  Eastern Small-Footed Bat, Eastern Small-Footed...   \n",
       "142            49   Mammal  Eastern Small-Footed Bat, Eastern Small-Footed...   \n",
       "143           233   Mammal  Eastern Small-Footed Bat, Eastern Small-Footed...   \n",
       "\n",
       "    conservation_status  protect_status  is_mouse  is_bat  \n",
       "0    Species of Concern            True     False    True  \n",
       "1    Species of Concern            True     False    True  \n",
       "2    Species of Concern            True     False    True  \n",
       "3    Species of Concern            True     False    True  \n",
       "4       No Intervention           False     False    True  \n",
       "..                  ...             ...       ...     ...  \n",
       "139          Endangered            True     False    True  \n",
       "140  Species of Concern            True     False    True  \n",
       "141  Species of Concern            True     False    True  \n",
       "142  Species of Concern            True     False    True  \n",
       "143  Species of Concern            True     False    True  \n",
       "\n",
       "[144 rows x 9 columns]"
      ]
     },
     "execution_count": 79,
     "metadata": {},
     "output_type": "execute_result"
    }
   ],
   "source": [
    "# Merging data below...\n",
    "\n",
    "count_bats = observations_data.merge(species_data[species_data.is_bat])\n",
    "count_bats"
   ]
  },
  {
   "cell_type": "code",
   "execution_count": 80,
   "metadata": {},
   "outputs": [
    {
     "data": {
      "text/html": [
       "<div>\n",
       "<style scoped>\n",
       "    .dataframe tbody tr th:only-of-type {\n",
       "        vertical-align: middle;\n",
       "    }\n",
       "\n",
       "    .dataframe tbody tr th {\n",
       "        vertical-align: top;\n",
       "    }\n",
       "\n",
       "    .dataframe thead th {\n",
       "        text-align: right;\n",
       "    }\n",
       "</style>\n",
       "<table border=\"1\" class=\"dataframe\">\n",
       "  <thead>\n",
       "    <tr style=\"text-align: right;\">\n",
       "      <th></th>\n",
       "      <th>park_name</th>\n",
       "      <th>protect_status</th>\n",
       "      <th>observations</th>\n",
       "    </tr>\n",
       "  </thead>\n",
       "  <tbody>\n",
       "    <tr>\n",
       "      <th>0</th>\n",
       "      <td>Bryce National Park</td>\n",
       "      <td>False</td>\n",
       "      <td>1596</td>\n",
       "    </tr>\n",
       "    <tr>\n",
       "      <th>1</th>\n",
       "      <td>Bryce National Park</td>\n",
       "      <td>True</td>\n",
       "      <td>1837</td>\n",
       "    </tr>\n",
       "    <tr>\n",
       "      <th>2</th>\n",
       "      <td>Great Smoky Mountains National Park</td>\n",
       "      <td>False</td>\n",
       "      <td>1299</td>\n",
       "    </tr>\n",
       "    <tr>\n",
       "      <th>3</th>\n",
       "      <td>Great Smoky Mountains National Park</td>\n",
       "      <td>True</td>\n",
       "      <td>1112</td>\n",
       "    </tr>\n",
       "    <tr>\n",
       "      <th>4</th>\n",
       "      <td>Yellowstone National Park</td>\n",
       "      <td>False</td>\n",
       "      <td>4044</td>\n",
       "    </tr>\n",
       "    <tr>\n",
       "      <th>5</th>\n",
       "      <td>Yellowstone National Park</td>\n",
       "      <td>True</td>\n",
       "      <td>4318</td>\n",
       "    </tr>\n",
       "    <tr>\n",
       "      <th>6</th>\n",
       "      <td>Yosemite National Park</td>\n",
       "      <td>False</td>\n",
       "      <td>2345</td>\n",
       "    </tr>\n",
       "    <tr>\n",
       "      <th>7</th>\n",
       "      <td>Yosemite National Park</td>\n",
       "      <td>True</td>\n",
       "      <td>2441</td>\n",
       "    </tr>\n",
       "  </tbody>\n",
       "</table>\n",
       "</div>"
      ],
      "text/plain": [
       "                             park_name  protect_status  observations\n",
       "0                  Bryce National Park           False          1596\n",
       "1                  Bryce National Park            True          1837\n",
       "2  Great Smoky Mountains National Park           False          1299\n",
       "3  Great Smoky Mountains National Park            True          1112\n",
       "4            Yellowstone National Park           False          4044\n",
       "5            Yellowstone National Park            True          4318\n",
       "6               Yosemite National Park           False          2345\n",
       "7               Yosemite National Park            True          2441"
      ]
     },
     "execution_count": 80,
     "metadata": {},
     "output_type": "execute_result"
    }
   ],
   "source": [
    "obs_by_park = count_bats.groupby(['park_name', 'protect_status']).observations.sum().reset_index()\n",
    "obs_by_park"
   ]
  },
  {
   "cell_type": "code",
   "execution_count": 82,
   "metadata": {
    "scrolled": true
   },
   "outputs": [
    {
     "data": {
      "image/png": "[encoded data removed]",
      "text/plain": [
       "<Figure size 1152x288 with 1 Axes>"
      ]
     },
     "metadata": {
      "needs_background": "light"
     },
     "output_type": "display_data"
    }
   ],
   "source": [
    "# Show a barplot\n",
    "plt.figure(figsize=(16, 4))\n",
    "sns.barplot(x=obs_by_park.park_name, y= obs_by_park.observations, hue=obs_by_park.protect_status, palette='spring')\n",
    "plt.xlabel('National Parks')\n",
    "plt.ylabel('Number of Observations')\n",
    "plt.title('Observations of Bats per Week')\n",
    "plt.show()"
   ]
  },
  {
   "cell_type": "markdown",
   "metadata": {},
   "source": [
    "# Conclusions & Further Research"
   ]
  },
  {
   "cell_type": "markdown",
   "metadata": {},
   "source": [
    "The project was able to make several data visualizations and inferences about the various species in four of the National Parks that comprised this data set. There still needs to be more research on this topic especially given the fact that our data was obtained as far back as 7 days ago and would need a wider timeframe to better answer our questions. "
   ]
  }
 ],
 "metadata": {
  "kernelspec": {
   "display_name": "Python 3 (ipykernel)",
   "language": "python",
   "name": "python3"
  },
  "language_info": {
   "codemirror_mode": {
    "name": "ipython",
    "version": 3
   },
   "file_extension": ".py",
   "mimetype": "text/x-python",
   "name": "python",
   "nbconvert_exporter": "python",
   "pygments_lexer": "ipython3",
   "version": "3.9.12"
  }
 },
 "nbformat": 4,
 "nbformat_minor": 4
}
